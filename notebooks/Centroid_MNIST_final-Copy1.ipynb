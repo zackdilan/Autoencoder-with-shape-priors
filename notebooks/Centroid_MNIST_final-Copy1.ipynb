{
 "cells": [
  {
   "cell_type": "code",
   "execution_count": 1,
   "metadata": {},
   "outputs": [],
   "source": [
    "import os\n",
    "import random\n",
    "import time\n",
    "import cv2\n",
    "import numpy as np\n",
    "from scipy import ndimage\n",
    "import torch\n",
    "import torch.nn as nn\n",
    "import torchvision.datasets as dataset\n",
    "from torch.utils.data import  DataLoader\n",
    "import torchvision.transforms as transforms\n",
    "import torch.nn.functional as F\n",
    "import torch.optim as optim\n",
    "import matplotlib.pyplot as plt\n",
    "from PIL import Image,ImageStat\n",
    "from visdom import Visdom\n",
    "\n",
    "# load MNIST dataset\n",
    "root = \"/home/robin/Thesis/Autoencoder/MNIST1_data\"\n",
    "if not(os.path.exists(root)):\n",
    "    os.mkdir(root)\n",
    "    \n"
   ]
  },
  {
   "cell_type": "code",
   "execution_count": 2,
   "metadata": {},
   "outputs": [],
   "source": [
    "#overirde the MNIST base class to return the centroid and thw transformed image. Have alook \n",
    "#at the readme section for more details.\n",
    "\n",
    "class MNIST1(dataset.MNIST):\n",
    "    \n",
    "    def __getitem__(self, index):\n",
    "        \"\"\"\n",
    "        Args:\n",
    "            index (int): Index\n",
    "\n",
    "        Returns:\n",
    "            tuple: (image, target,mean_pixel) where target is index of the target class.\n",
    "        \"\"\"\n",
    "        img, target = self.data[index], int(self.targets[index])\n",
    "        \n",
    "\n",
    "        # doing this so that it is consistent with all other datasets\n",
    "        # to return a PIL Image\n",
    "        img = Image.fromarray(img.numpy(), mode='L')\n",
    "        \n",
    "        ##afine transform acording a randome offset\n",
    "        def affine_trans(img):\n",
    "            image = torch.squeeze(img,0)\n",
    "            rnumber = [random.uniform(0,3) for x in range(2)]\n",
    "            #returns a torch tensor of rnumber..\n",
    "            rnumber = torch.FloatTensor(rnumber)\n",
    "            x_offset,y_offset = rnumber \n",
    "            M = np.float32([[1,0,x_offset],[0,1,y_offset]])\n",
    "            rows,cols = rows,cols = image.shape[0:]\n",
    "            result = cv2.warpAffine(image.numpy(),M,(rows,cols))\n",
    "            result = torch.from_numpy(result).float()\n",
    "            return rnumber,result\n",
    "        \n",
    "        \n",
    "        if self.transform is not None:\n",
    "            img = self.transform(img)\n",
    "            new_img = torch.squeeze(img,0)\n",
    "            rnumber,result = affine_trans(img)\n",
    "            centroid = list(ndimage.measurements.center_of_mass(new_img.numpy()))\n",
    "            centroid = torch.FloatTensor(centroid)\n",
    "            \n",
    "        if self.target_transform is not None:\n",
    "            target = self.target_transform(target)\n",
    "        \n",
    "        values = {\"image\":img,\"target\":target,\n",
    "                 \"centroid\":centroid,\"randnum\":rnumber,\"warp_img\":result}\n",
    "        #return img,target,centroid_x,centroid_y,rnumber,result\n",
    "        return values\n",
    "    \n"
   ]
  },
  {
   "cell_type": "code",
   "execution_count": 3,
   "metadata": {},
   "outputs": [
    {
     "name": "stdout",
     "output_type": "stream",
     "text": [
      "235\n",
      "==>>> total training batch number: 235\n",
      "==>>> total testing batch number: 40\n"
     ]
    }
   ],
   "source": [
    "#create the dataloders..\n",
    "\n",
    "trans = transforms.Compose([transforms.ToTensor()])\n",
    "# if not exist, download mnist dataset\n",
    "train_set = MNIST1(root=root, train=True, transform=trans, download=True)\n",
    "test_set = MNIST1(root=root, train=False, transform=trans, download=True)\n",
    "\n",
    "batch_size = 256\n",
    "train_loader = DataLoader(dataset=train_set,\n",
    "                 batch_size=batch_size,\n",
    "                shuffle=True,pin_memory=False)\n",
    "test_loader = DataLoader(dataset=test_set,\n",
    "                 batch_size=batch_size,\n",
    "                shuffle=True,pin_memory=False)\n",
    "#create a dataloader dictionary\n",
    "dataloaders = {\"train\":train_loader,\"val\":test_loader}\n",
    "\n",
    "print(len(dataloaders[\"train\"]))\n",
    "print ('==>>> total training batch number: {}'.format(len(train_loader)))\n",
    "print ('==>>> total testing batch number: {}'.format(len(test_loader)))"
   ]
  },
  {
   "cell_type": "code",
   "execution_count": 6,
   "metadata": {},
   "outputs": [],
   "source": [
    "def visualize(inputs,output,n):\n",
    "    plt.figure(figsize= (18,4))\n",
    "    for i in range(n):\n",
    "        ax1 = plt.subplot(2,n,i+1)\n",
    "        ax1.set_title(\"input\")\n",
    "        ax1.axis(\"off\")\n",
    "        plt.imshow(inputs[i][0],cmap =\"gray\",interpolation ='none')\n",
    "        ax2 = plt.subplot(2,n ,i+1+n)\n",
    "        ax2.set_title(\"warped image\")\n",
    "        ax2.axis(\"off\")\n",
    "        plt.imshow(output[i][0],cmap =\"gray\",interpolation ='none')\n",
    "        "
   ]
  },
  {
   "cell_type": "code",
   "execution_count": 9,
   "metadata": {
    "scrolled": true
   },
   "outputs": [
    {
     "data": {
      "image/png": "[encoded data removed]",
      "text/plain": [
       "<Figure size 1296x288 with 10 Axes>"
      ]
     },
     "metadata": {
      "needs_background": "light"
     },
     "output_type": "display_data"
    }
   ],
   "source": [
    "#it's always good to check whether your datas are loaded properly,\n",
    "for index,sampled_batch in enumerate (train_loader):\n",
    "    image,warp_image =sampled_batch[\"image\"],sampled_batch[\"warp_img\"] \n",
    "    warp_image = torch.unsqueeze(warp_image,1)\n",
    "    visualize(image,warp_image,5)\n",
    "    if index == 0:\n",
    "        break"
   ]
  },
  {
   "cell_type": "code",
   "execution_count": 12,
   "metadata": {},
   "outputs": [],
   "source": [
    "#NN model \n",
    "class Autoencoder(nn.Module):\n",
    "    def __init__(self):\n",
    "        super(Autoencoder, self).__init__()\n",
    "        \n",
    "        self.encoder =  nn.Sequential(\n",
    "                        nn.Linear(28*28,256),\n",
    "                        nn.ReLU(True),\n",
    "                        nn.Linear(256,128),\n",
    "                        nn.ReLU(True),\n",
    "                        nn.Linear(128,64),nn.ReLU(True),\n",
    "                        nn.Linear(64,20)\n",
    "                        )\n",
    "        self.decoder =  nn.Sequential(\n",
    "                        nn.Linear(20,64),nn.ReLU(True),\n",
    "                        nn.Linear(64,128),nn.ReLU(True),\n",
    "                        nn.Linear(128,256),nn.ReLU(True),\n",
    "                        nn.Linear(256,28*28),nn.Tanh()\n",
    "                        )\n",
    "    def forward(self,x,offset):\n",
    "        encoded = self.encoder(x)\n",
    "        decoded = torch.add(offset,encoded)\n",
    "        decoded = self.decoder(decoded)\n",
    "        return encoded,decoded\n",
    "\n",
    "\n",
    "#Create the    \n",
    "class VisdomLinePlotter(object):\n",
    "    \"\"\"Plots to Visdom\"\"\"\n",
    "    def __init__(self, env_name='main'):\n",
    "        self.viz = Visdom()\n",
    "        self.env = env_name\n",
    "        self.plots = {}\n",
    "    def plot(self, var_name, split_name, title_name, x, y):\n",
    "        if var_name not in self.plots:\n",
    "            self.plots[var_name] = self.viz.line(X=np.array([x,x]), Y=np.array([y,y]), env=self.env, opts=dict(\n",
    "                legend=[split_name],\n",
    "                title=title_name,\n",
    "                xlabel='Epochs',\n",
    "                ylabel=var_name\n",
    "            ))\n",
    "        else:\n",
    "            self.viz.line(X=np.array([x]), Y=np.array([y]), env=self.env, win=self.plots[var_name], name=split_name, update = 'append')\n",
    "    \n"
   ]
  },
  {
   "cell_type": "code",
   "execution_count": 15,
   "metadata": {},
   "outputs": [],
   "source": [
    "def visualize(inputs,output,n):\n",
    "    plt.figure(figsize= (18,4))\n",
    "    for i in range(n):\n",
    "        ax = plt.subplot(2,n,i+1)\n",
    "        plt.imshow(inputs[i][0],cmap =\"gray\",interpolation ='none')\n",
    "        ax = plt.subplot(2,n ,i+1+n)\n",
    "        plt.imshow(output[i][0],cmap =\"gray\",interpolation ='none')\n",
    "        "
   ]
  },
  {
   "cell_type": "code",
   "execution_count": 16,
   "metadata": {},
   "outputs": [
    {
     "name": "stdout",
     "output_type": "stream",
     "text": [
      "originalimage centroid tensor([14.1695, 14.4318])\n",
      "warp image centroid [16.21306723518759, 15.325777240927707]\n",
      "centroid calculated from the reconstructed image [15.969066837993193, 15.248628592170329]\n",
      "centroid values from model tensor([14.1971, 14.4692])\n"
     ]
    },
    {
     "data": {
      "image/png": "[encoded data removed]",
      "text/plain": [
       "<Figure size 1296x288 with 10 Axes>"
      ]
     },
     "metadata": {
      "needs_background": "light"
     },
     "output_type": "display_data"
    }
   ],
   "source": [
    "#Evaluation \n",
    "logs_path = '/home/robin/Thesis/Autoencoder/logs/centroid_auto2/train_centroid2_epoch389.pth'\n",
    "device = torch.device(\"cuda:0\" if torch.cuda.is_available() else \"cpu\")\n",
    "model = Autoencoder().to(device)\n",
    "optimizer = torch.optim.Adam(model.parameters(), lr=0.001, weight_decay=1e-5)\n",
    "checkpoint = torch.load(logs_path)\n",
    "model.load_state_dict(checkpoint[\"model_state_dict\"])\n",
    "optimizer.load_state_dict(checkpoint['optimizer_state_dict'])\n",
    "epoch = checkpoint['epoch']\n",
    "loss = checkpoint['loss']\n",
    "model.eval()\n",
    "\n",
    "for index,sampled_batch in enumerate (train_loader,0):\n",
    "    image,warp_image =sampled_batch[\"image\"],sampled_batch[\"warp_img\"] \n",
    "    inputs = image.view(image.size(0),-1).to(device)     #shape [batch_size*784]\n",
    "    shifted_inputs = warp_image.view(warp_image.size(0),-1).to(device)   #shape [batch_size*784]\n",
    "    offset = sampled_batch[\"randnum\"]   #shape [batch_size*2]\n",
    "    #converted to the dimension of encoded o/p from model to get added.\n",
    "    offset = F.pad(input=offset, pad=(18, 0, 0, 0), mode='constant', value=0)\n",
    "    centroid = sampled_batch[\"centroid\"]   #shape [batch_size*2]\n",
    "    ##since centre of mass (centroid return the y centroid first, we swap the\n",
    "    #columns of centroid tensor..)\n",
    "    centroid = torch.index_select(centroid, 1, torch.LongTensor([1,0]))\n",
    "\n",
    "    ##forward..\n",
    "    encode_out,output = model(inputs,offset.to(device))\n",
    "    \n",
    "    #resize the model output to our input image dimensions(28*28*1)\n",
    "    output = output.detach().cpu()\n",
    "    output = output.clamp(0,1)\n",
    "    output = output.view(output.size(0),1,28,28)\n",
    "   \n",
    "    \n",
    "    warp_image = torch.unsqueeze(warp_image,1)\n",
    "    #feel free to chnge the parameters passing the visualization\n",
    "    visualize(warp_image,output,5)\n",
    "    \n",
    "    #CHECK THE CENTROID BETWEEN WARP_IMAGE AND OUTPUT\n",
    "    print(\"originalimage centroid\",centroid[0])\n",
    "    centroid_output= list(ndimage.measurements.center_of_mass(output[0][0].numpy()))\n",
    "    centroid_image = list(ndimage.measurements.center_of_mass(warp_image[0][0].numpy()))\n",
    "    print(\"warp image centroid\",centroid_image)\n",
    "    print(\"centroid calculated from the reconstructed image\",centroid_output)\n",
    "    centroid_out = encode_out[:,18:20]\n",
    "    print(\"centroid values from model\",centroid_out[0].detach().cpu())\n",
    "    if index ==0:\n",
    "        break"
   ]
  }
 ],
 "metadata": {
  "kernelspec": {
   "display_name": "Python 3",
   "language": "python",
   "name": "python3"
  },
  "language_info": {
   "codemirror_mode": {
    "name": "ipython",
    "version": 3
   },
   "file_extension": ".py",
   "mimetype": "text/x-python",
   "name": "python",
   "nbconvert_exporter": "python",
   "pygments_lexer": "ipython3",
   "version": "3.6.8"
  }
 },
 "nbformat": 4,
 "nbformat_minor": 2
}
